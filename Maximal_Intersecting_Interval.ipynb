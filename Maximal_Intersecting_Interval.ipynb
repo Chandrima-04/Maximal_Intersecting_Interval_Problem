{
 "cells": [
  {
   "cell_type": "code",
   "execution_count": 17,
   "metadata": {},
   "outputs": [],
   "source": [
    "from heapq import heappush, heappop, heapify\n",
    "class Maximal_intersection:\n",
    "    def __init__(self, flist):\n",
    "        self.flist = flist\n",
    "        \n",
    "    def heap_push(self,hlist,element):\n",
    "        heappush(hlist,element)\n",
    "        return (hlist)\n",
    "\n",
    "    def heap_pop(self,hlist):\n",
    "        heappop(hlist)\n",
    "        return hlist\n",
    "    \n",
    "    def intervals(self):\n",
    "        L = sorted(self.flist)\n",
    "        i,j = 0, len(L)\n",
    "        newIns = False\n",
    "        heap2 = [] \n",
    "        half = int(j/2)\n",
    "        interval_no = []\n",
    "        while i<j:\n",
    "            index_val = self.flist.index(L[i])\n",
    "            if(index_val < half):\n",
    "                newIns = True\n",
    "                self.heap_push(heap2,L[i])\n",
    "                interval_no.append(index_val+1)\n",
    "            elif (index_val >= half):\n",
    "                if (newIns == True):\n",
    "                    print (interval_no)\n",
    "                newIns = False\n",
    "                interval_no.remove(index_val-half+1)\n",
    "                self.heap_pop(heap2)            \n",
    "            i = i+1"
   ]
  },
  {
   "cell_type": "code",
   "execution_count": 18,
   "metadata": {},
   "outputs": [
    {
     "name": "stdout",
     "output_type": "stream",
     "text": [
      "Enter interval value 5\n",
      "Enter interval value 1 5\n",
      "Enter interval value 2 6\n",
      "Enter interval value 3 8\n",
      "Enter interval value 7 9\n",
      "Enter interval value 10 12\n",
      "[1, 2, 3]\n",
      "[3, 4]\n",
      "[5]\n"
     ]
    }
   ],
   "source": [
    "\"Driver code\"\n",
    "left_list = []\n",
    "right_list = []\n",
    "interval = int(input (\"Enter interval value \"))\n",
    "while interval>0:\n",
    "    a,b = input (\"Enter interval value \").split(' ')\n",
    "    a,b = int(a), int(b)\n",
    "    if a == 0 and b==0:\n",
    "        break   \n",
    "    left_list.append(a)\n",
    "    right_list.append(b)\n",
    "    interval -=1\n",
    "        \n",
    "final_list = left_list + right_list\n",
    "I = Maximal_intersection(final_list)\n",
    "I.intervals()"
   ]
  },
  {
   "cell_type": "code",
   "execution_count": null,
   "metadata": {},
   "outputs": [],
   "source": []
  }
 ],
 "metadata": {
  "kernelspec": {
   "display_name": "Python 3",
   "language": "python",
   "name": "python3"
  },
  "language_info": {
   "codemirror_mode": {
    "name": "ipython",
    "version": 3
   },
   "file_extension": ".py",
   "mimetype": "text/x-python",
   "name": "python",
   "nbconvert_exporter": "python",
   "pygments_lexer": "ipython3",
   "version": "3.6.5"
  }
 },
 "nbformat": 4,
 "nbformat_minor": 2
}
